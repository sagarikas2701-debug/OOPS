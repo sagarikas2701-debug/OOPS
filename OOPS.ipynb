{
  "nbformat": 4,
  "nbformat_minor": 0,
  "metadata": {
    "colab": {
      "provenance": []
    },
    "kernelspec": {
      "name": "python3",
      "display_name": "Python 3"
    },
    "language_info": {
      "name": "python"
    }
  },
  "cells": [
    {
      "cell_type": "markdown",
      "source": [
        "THEORY QUESTIONS"
      ],
      "metadata": {
        "id": "C5UnliaB4Mur"
      }
    },
    {
      "cell_type": "markdown",
      "source": [
        " What is Object-Oriented Programming (OOP)?\n",
        "\n",
        " Ans- Object oreinted programming is a programming paradigm based on concept of objects , which can contain data and codes that operate on that data.It aims to organize software design around data and objects , rather than functionsand logic. Key principles include encapsulation , inheritance,polymorpjism and abstraction .\n",
        "\n"
      ],
      "metadata": {
        "id": "CyJLF43v4Mqu"
      }
    },
    {
      "cell_type": "markdown",
      "source": [
        "What is a class in OOP?\n",
        "\n",
        "Ans- A class in OOP is a blusprint or a template for creating objects . It defines the common attributes and methods that all objects of that class will possess. It acts as user defined data type.\n"
      ],
      "metadata": {
        "id": "nF_rhRto4MnS"
      }
    },
    {
      "cell_type": "markdown",
      "source": [
        "What is an object in OOP?\n",
        "\n",
        "Ans- An object in OOP is an instance of the class. It is a concrete entity created from the class blueprint , having its own unique set of attribute values and ability to perform actions defined by class methods.\n"
      ],
      "metadata": {
        "id": "3bdROlvW4Mjo"
      }
    },
    {
      "cell_type": "markdown",
      "source": [
        "What is the difference between abstraction and encapsulation?\n",
        "\n",
        "Ans- Abstraction focuses on showing only essential information and hiding complex implementation details, allowing users to interact with objects at higher level without needing to know internal workings , Encapsulation is the bundling of data and methods that operate on data with single unit and restricting direct access to some of object components promoting data integrity and security ."
      ],
      "metadata": {
        "id": "41k_R6Zj4Mfz"
      }
    },
    {
      "cell_type": "markdown",
      "source": [
        "What are dunder methods in Python?\n",
        "\n",
        "Ans-Dunder methods, also known as magic methods in Python are special methods that have double underscores at the beginning and end of their names eg - __init__, They are automatically called by python in response to certain operstions or events allowing classes to implement specific behaviors like object initialization ,string representation or arithmetic operations."
      ],
      "metadata": {
        "id": "R6MyiqNE4Mb_"
      }
    },
    {
      "cell_type": "markdown",
      "source": [
        "Explain the concept of inheritance in OOP?\n",
        "\n",
        "Ans- Inheritance is a mechanism in OOP tht allows new class to inherit attributes and methods from existing class . This promotes code reusability and establishes relationship between classes , where subclass is specialized version of superclass.\n",
        "\n",
        "\n"
      ],
      "metadata": {
        "id": "tJvA0sqF4MX3"
      }
    },
    {
      "cell_type": "markdown",
      "source": [
        "What is polymorphism in OOP?\n",
        "\n",
        "Ans- Polymorphism in OOP means many forms. It allows objects of different classes to be treated as of common type . This is achieved through method overriding and method overloading .\n",
        "\n",
        "How is encapsulation achieved in Python?\n",
        "\n",
        "Ans - In python , encapsulation is achieved primarily through conventions and naming convemtions rather than strict access modifiers like public or private . Attributes and methods intended for internal use are typically prefixed with single underscore  eg_attribute_name_ or double underscores eg __private_attribute to indicate that they shouldnt be directly accessed from outside the class . Property decorators also aid in controlling access to attributes.\n",
        "\n",
        "What is a constructor in Python?\n",
        "\n",
        "Ans- A constructor in python is a special method named __init__ that is automatically called when new object of a class is created . Its primary purpose is to initialize attributes of newly created object.\n",
        "\n",
        "\n",
        "What are class and static methods in Python?\n",
        "\n",
        "Ans- Class methods are methods that operate on class itself rather than instance of class. They receive class as first argument and are defined using @classmethod decorator. They are often used for factory methods or methods that modify class level attributes.\n",
        "Static methods are methods that belong to class but do nt operate on either instance or class itself. They are defined using @staticmethod decorstor and do not receive self or cls as their first argument. They are regular functions that are logically grouped within class\n",
        "\n",
        "What is method overloading in Python?\n",
        "\n",
        "Ans- Python doesnt support traditional overloading in way languages like Java or C++ do .In python if you define multiple methods with same name in class, the last defined method will override previous ones. However,you can achieve similar functionality using default arguments ,variable length arguments[*args.**kwargs]or by checking argument types within single methods.\n",
        "\n",
        "What is method overriding in OOP?\n",
        "\n",
        "Ans-Method overriding is a feature that allows subclass to provide specific implementation for a method that is already defined in its superclass. When the overriden method is called on an object of subclass , the subclass implementation is executed instead of superclass.\n",
        "\n",
        "What is a property decorator in Python?\n",
        "\n",
        "Ans- The @property decorator is used to define methods that can be accessed like attributes. It provides way to encapsulate the logic for getting,setting and deleting an attribute allowing you to add validation or other operations without changing the way the attribute is accessed from outside the class.\n",
        "\n",
        "Why is polymorphism important in OOP?\n",
        "\n",
        "Ans-Polymorphism is important because it promotes flexibility , extensibility and code reusability . It allows you to write more generic code that can work with object of different types as long as they share common interface or base class. This simplifies code maintencance and makesit easier to add new functionalities without modifying existing code.\n",
        "\n",
        "What is an abstract class in Python?\n",
        "\n",
        "Ans- An abstract class is a class that cant be instantiated directly and is designed to be inherited by other classes , It typically contains onr or more abstract methods , which are methods declared but not implemented in abstract class itself . Subclasses are then required to provide concrete implementation for these abstract methods . They are defined using ABC module and @abstractmethod decorator from abc.\n",
        "\n",
        "What are the advantages of OOP?\n",
        "\n",
        "Ans-The advantages include modularity , reusability , maintenability , flexibility , scalability and data security\n",
        "OOp promotes breaking down complez problem into simpler , manageable objects , objects can be reused across different parts of program , encapsulation and modulairty akes it easier to maintain and update code , allows easy extension and modification of existing code and protects data by restricting direct access.\n",
        "\n",
        "What is the difference between a class variable and an instance variable?\n",
        "\n",
        "Ans- Class variable is variab;e declared within a class but outside any method. It os shared by all instances of that class. Changes to a variation affects all instances\n",
        "Instance variable is a variable declared within method or constructor of class or directly in the __init__ method. Each instance has its own copy of instance varibales ,affecting only particular instance.\n",
        "\n",
        "What is multiple inheritance in Python?\n",
        "\n",
        "Ans-Multiple inheritance is a feature where class can inherit attributes and methods from more than one parent class. This allows child class to combine functionalities from multiple sources.\n",
        "\n",
        "Explain the purpose of ‘’__str__’ and ‘__repr__’ ‘ methods in Python?\n",
        "\n",
        "__str__ returns a human readble string representation of an object , intended for end users. Its called str() and print()\n",
        "__repr__ returns an official strinf representation of object primarily for developers, its meant to be unambiguous and if possible allows recreation of object , Its called repr() and used as fallback for __str__ if not definedd.\n",
        "\n",
        "What is the significance of the ‘super()’ function in Python?\n",
        "\n",
        "ANs- The super() function is used to call methods of a parent or sibling class. It is primarily used in context of inheritance to ensure that parent class constructors or methods are properly iitialized or executed within child class especially in multiple inheritance scenarios to handle Method Resolution Order.\n",
        "\n",
        "What is the significance of the __del__ method in Python?\n",
        "\n",
        "Ans- The __del__ methid also known as destructor is called when object is about to be destroyed ,. Its used for cleanup operations like closing files or releasing exernal resources though its use is often discouraged in facor of context managers dues to less predictable execution time.\n",
        "\n",
        "What is the difference between @staticmethod and @classmethod in Python?\n",
        "\n",
        "ANs- @static method belong to class but doesnt operate on instance or class itself . It behaves like regular dunction within class namespace\n",
        "@classmethod receives class itself as first argument . It can modify class level state or create new instances of class.\n",
        "\n",
        "How does polymorphism work in Python with inheritance?\n",
        "\n",
        "ANs-Polymorphism with inheritance refers to ability of objects of different classes to respond to same method call in their own specific way provided they share common interface . This is often achieved through method overriding where child class provides its own implementation of method already defined in parent class.\n",
        "\n",
        "What is method chaining in Python OOP?\n",
        "\n",
        "Ans- Method chaining is a technique where multiple method calls are strung together on a single line.This is achieved by having each method return object itself allowing subsequent methods to be called on returned object. It enhances code readibility and conciseness\n",
        "\n",
        "What is the purpose of the __call__ method in Python?\n",
        "\n",
        "Ans- The __call__ method allows instance of class to be called as if it were a function , When object with __call__ method is called , the call method is executed enabling objects to behave like callable functions.\n"
      ],
      "metadata": {
        "id": "S24X9h2W4MUz"
      }
    },
    {
      "cell_type": "markdown",
      "source": [
        "PRACTICAL QUESTIONS\n",
        "\n"
      ],
      "metadata": {
        "id": "ZmX_kTVD4MTD"
      }
    },
    {
      "cell_type": "code",
      "source": [
        "class Animal:\n",
        "  def speak(self):\n",
        "    print(\"This animal makes a sound\")\n",
        "\n",
        "    class Dog(Animal):\n",
        "      def speak(self):\n",
        "        print(\"Bark\")"
      ],
      "metadata": {
        "id": "Hw-SGLBRFj6i"
      },
      "execution_count": 2,
      "outputs": []
    },
    {
      "cell_type": "code",
      "source": [
        "from pathlib import WindowsPath\n",
        "from abc import ABC, abstractmethod\n",
        "class Shape(ABC):\n",
        "  @abstractmethod\n",
        "  def area(self):\n",
        "    pass\n",
        "\n",
        "class Circle(Shape):\n",
        "  def __init__(self,radius):\n",
        "    self.radius=radius\n",
        "  def area(self):\n",
        "    return 3.14159*self.radius**2\n",
        "\n",
        "class Rectangle(Shape):\n",
        "  def __init__(self,length,width):\n",
        "    self.length=length\n",
        "    self.width=width\n",
        "  def area (self):\n",
        "    return self.length*self.width"
      ],
      "metadata": {
        "id": "yzO7eTLtFj0q"
      },
      "execution_count": 4,
      "outputs": []
    },
    {
      "cell_type": "code",
      "source": [
        "class Vehicle:\n",
        "  def __init__(self, vehicle_type):\n",
        "    self.type = vehicle_type\n",
        "\n",
        "class Car(Vehicle):\n",
        "  def __init__(self, vehicle_type, model, battery_capacity):\n",
        "    super().__init__(vehicle_type)\n",
        "    self.model = model\n",
        "    self.battery = battery_capacity"
      ],
      "metadata": {
        "id": "7phYGzPLFju-"
      },
      "execution_count": 6,
      "outputs": []
    },
    {
      "cell_type": "code",
      "source": [
        "class Bird:\n",
        "  def fly(self):\n",
        "    print(\"This bird can fly\")\n",
        "    class Sparrow(Bird):\n",
        "      def fly(self):\n",
        "        print(\"Sparrows fly with quick flaps\")\n",
        "        class Penguin(Bird):\n",
        "          def fly(self):\n",
        "            print(\"Penguins cannot fly. but they can swim\")\n",
        ""
      ],
      "metadata": {
        "id": "UqVLJ6PGFjqA"
      },
      "execution_count": 7,
      "outputs": []
    },
    {
      "cell_type": "code",
      "source": [
        "class BankAccount:\n",
        "    def __init__(self, initial_balance=0):\n",
        "        self.__balance = initial_balance\n",
        "    def deposit(self, amount):\n",
        "        if amount > 0:\n",
        "            self.__balance += amount\n",
        "            print(f\"Deposited: ${amount}\")\n",
        "        else:\n",
        "            print(\"Deposit amount must be positive.\")\n",
        "    def withdraw(self, amount):\n",
        "        if amount <= 0:\n",
        "            print(\"Withdrawal amount must be positive.\")\n",
        "        elif amount > self.__balance:\n",
        "            print(\"Insufficient funds.\")\n",
        "        else:\n",
        "            self.__balance -= amount\n",
        "            print(f\"Withdrew: ${amount}\")\n",
        "    def check_balance(self):\n",
        "        print(f\"Current Balance: ${self.__balance}\")\n",
        "\n",
        "\n",
        "\n"
      ],
      "metadata": {
        "id": "816sqOlgFjlX"
      },
      "execution_count": 8,
      "outputs": []
    },
    {
      "cell_type": "code",
      "source": [
        "class Instrument:\n",
        "    def play(self):\n",
        "        print(\"Playing an instrument\")\n",
        "\n",
        "# Derived class 1\n",
        "class Guitar(Instrument):\n",
        "    def play(self):\n",
        "        print(\"Strumming the guitar 🎸\")\n",
        "\n",
        "class Piano(Instrument):\n",
        "    def play(self):\n",
        "        print(\"Playing the piano 🎹\")"
      ],
      "metadata": {
        "id": "5VUqcmK4FjcO"
      },
      "execution_count": 11,
      "outputs": []
    },
    {
      "cell_type": "code",
      "source": [
        "class MathOperations:\n",
        "    @classmethod\n",
        "    def add_numbers(cls, a, b):\n",
        "        return a + b\n",
        "    @staticmethod\n",
        "    def subtract_numbers(a, b):\n",
        "        return a - b"
      ],
      "metadata": {
        "id": "Vf33PNdgFjXO"
      },
      "execution_count": 12,
      "outputs": []
    },
    {
      "cell_type": "code",
      "source": [
        "class Person:\n",
        "    count = 0\n",
        "\n",
        "    def __init__(self, name):\n",
        "        self.name = name\n",
        "        Person.count += 1\n",
        "    @classmethod\n",
        "    def total_persons(cls):\n",
        "        return cls.count"
      ],
      "metadata": {
        "id": "dC5xE3bzFjSa"
      },
      "execution_count": 13,
      "outputs": []
    },
    {
      "cell_type": "code",
      "source": [
        "class Fraction:\n",
        "    def __init__(self, numerator, denominator):\n",
        "        self.numerator = numerator\n",
        "        self.denominator = denominator\n",
        "    def __str__(self):\n",
        "        return f\"{self.numerator}/{self.denominator}\"\n"
      ],
      "metadata": {
        "id": "r1eL394XFjLm"
      },
      "execution_count": 14,
      "outputs": []
    },
    {
      "cell_type": "code",
      "source": [
        "class Vector:\n",
        "    def __init__(self, x, y):\n",
        "        self.x = x\n",
        "        self.y = y\n",
        "    def __add__(self, other):\n",
        "        return Vector(self.x + other.x, self.y + other.y)\n",
        "    def __str__(self):\n",
        "        return f\"({self.x}, {self.y})\"\n"
      ],
      "metadata": {
        "id": "X8c6BLgbKlhe"
      },
      "execution_count": 15,
      "outputs": []
    },
    {
      "cell_type": "code",
      "source": [
        "class Person:\n",
        "    def __init__(self, name, age):\n",
        "        self.name = name\n",
        "        self.age = age\n",
        "\n",
        "    def greet(self):\n",
        "        print(f\"Hello, my name is {self.name} and I am {self.age} years old.\")\n"
      ],
      "metadata": {
        "id": "WwLPxHyjKlea"
      },
      "execution_count": 16,
      "outputs": []
    },
    {
      "cell_type": "code",
      "source": [
        "class Student:\n",
        "    def __init__(self, name, grades):\n",
        "        self.name = name\n",
        "        self.grades = grades\n",
        "\n",
        "    def average_grade(self):\n",
        "        if not self.grades:\n",
        "            return 0\n",
        "        return sum(self.grades) / len(self.grades)\n"
      ],
      "metadata": {
        "id": "YYPFjE_EKlbc"
      },
      "execution_count": 17,
      "outputs": []
    },
    {
      "cell_type": "code",
      "source": [
        "class Rectangle:\n",
        "    def __init__(self):\n",
        "        self.length = 0\n",
        "        self.width = 0\n",
        "\n",
        "    def set_dimensions(self, length, width):\n",
        "        self.length = length\n",
        "        self.width = width\n",
        "\n",
        "    def area(self):\n",
        "        return self.length * self.width"
      ],
      "metadata": {
        "id": "zKoawo-RKlXw"
      },
      "execution_count": 18,
      "outputs": []
    },
    {
      "cell_type": "code",
      "source": [
        "class Employee:\n",
        "    def __init__(self, name, hours_worked, hourly_rate):\n",
        "        self.name = name\n",
        "        self.hours_worked = hours_worked\n",
        "        self.hourly_rate = hourly_rate\n",
        "\n",
        "    def calculate_salary(self):\n",
        "        return self.hours_worked * self.hourly_rate\n",
        "class Manager(Employee):\n",
        "    def __init__(self, name, hours_worked, hourly_rate, bonus):\n",
        "        super().__init__(name, hours_worked, hourly_rate)\n",
        "        self.bonus = bonus\n",
        "\n",
        "    def calculate_salary(self):\n",
        "        base_salary = super().calculate_salary()\n",
        "        return base_salary + self.bonus"
      ],
      "metadata": {
        "id": "hCejsGniKlU1"
      },
      "execution_count": 19,
      "outputs": []
    },
    {
      "cell_type": "code",
      "source": [
        "class Product:\n",
        "    def __init__(self, name, price, quantity):\n",
        "        self.name = name\n",
        "        self.price = price\n",
        "        self.quantity = quantity\n",
        "\n",
        "    def total_price(self):\n",
        "        return self.price * self.quantity"
      ],
      "metadata": {
        "id": "s0E8vvf-KlRM"
      },
      "execution_count": 20,
      "outputs": []
    },
    {
      "cell_type": "code",
      "source": [
        "from abc import ABC, abstractmethod\n",
        "\n",
        "class Animal(ABC):\n",
        "    @abstractmethod\n",
        "    def sound(self):\n",
        "        pass\n",
        "class Cow(Animal):\n",
        "    def sound(self):\n",
        "        return \"Moo\"\n",
        "\n",
        "class Sheep(Animal):\n",
        "    def sound(self):\n",
        "        return \"Baa\""
      ],
      "metadata": {
        "id": "X04QcitQKlOT"
      },
      "execution_count": 21,
      "outputs": []
    },
    {
      "cell_type": "code",
      "source": [
        "class Book:\n",
        "    def __init__(self, title, author, year_published):\n",
        "        self.title = title\n",
        "        self.author = author\n",
        "        self.year_published = year_published\n",
        "\n",
        "    def get_book_info(self):\n",
        "        return f\"'{self.title}' by {self.author}, published in {self.year_published}\""
      ],
      "metadata": {
        "id": "G26c03itKlK3"
      },
      "execution_count": 22,
      "outputs": []
    },
    {
      "cell_type": "code",
      "source": [
        "class House:\n",
        "    def __init__(self, address, price):\n",
        "        self.address = address\n",
        "        self.price = price\n",
        "\n",
        "    def get_info(self):\n",
        "        return f\"House located at {self.address} priced at ${self.price}\"\n",
        "\n",
        "class Mansion(House):\n",
        "    def __init__(self, address, price, number_of_rooms):\n",
        "        super().__init__(address, price)\n",
        "        self.number_of_rooms = number_of_rooms\n",
        "\n",
        "def get_info(self):\n",
        "        base_info = super().get_info()\n",
        "        return f\"{base_info}, with {self.number_of_rooms} rooms\"\n"
      ],
      "metadata": {
        "id": "qpAa17CiKlHb"
      },
      "execution_count": 23,
      "outputs": []
    }
  ]
}